{
 "cells": [
  {
   "cell_type": "code",
   "execution_count": 35,
   "metadata": {},
   "outputs": [
    {
     "data": {
      "text/html": [
       "<div>\n",
       "<style scoped>\n",
       "    .dataframe tbody tr th:only-of-type {\n",
       "        vertical-align: middle;\n",
       "    }\n",
       "\n",
       "    .dataframe tbody tr th {\n",
       "        vertical-align: top;\n",
       "    }\n",
       "\n",
       "    .dataframe thead th {\n",
       "        text-align: right;\n",
       "    }\n",
       "</style>\n",
       "<table border=\"1\" class=\"dataframe\">\n",
       "  <thead>\n",
       "    <tr style=\"text-align: right;\">\n",
       "      <th></th>\n",
       "      <th>restaurant_name</th>\n",
       "      <th>menu_image</th>\n",
       "      <th>menu_name</th>\n",
       "      <th>ingredients</th>\n",
       "      <th>characteristics</th>\n",
       "      <th>menu_category</th>\n",
       "    </tr>\n",
       "  </thead>\n",
       "  <tbody>\n",
       "    <tr>\n",
       "      <th>0</th>\n",
       "      <td>Starbucks (สตาร์บัคส์)</td>\n",
       "      <td>https://img.wongnai.com/p/128x128/2025/02/13/b...</td>\n",
       "      <td>Blossom Coconut Roll</td>\n",
       "      <td>แป้งเค้ก, มะพร้าวขูด, น้ำตาล, ไข่, เนย</td>\n",
       "      <td>หวาน, มัน</td>\n",
       "      <td>ของหวาน, เบเกอรี/เค้ก</td>\n",
       "    </tr>\n",
       "    <tr>\n",
       "      <th>1</th>\n",
       "      <td>Starbucks (สตาร์บัคส์)</td>\n",
       "      <td>https://img.wongnai.com/p/128x128/2025/02/13/1...</td>\n",
       "      <td>Lychee Rose Juice Mixed with Pomegranate</td>\n",
       "      <td>ลิ้นจี่, น้ำกุหลาบ, น้ำทับทิม, น้ำตาล, น้ำแข็ง</td>\n",
       "      <td>หวาน, เปรี้ยว, มัน</td>\n",
       "      <td>เครื่องดื่ม/น้ำผลไม้</td>\n",
       "    </tr>\n",
       "    <tr>\n",
       "      <th>2</th>\n",
       "      <td>Starbucks (สตาร์บัคส์)</td>\n",
       "      <td>https://img.wongnai.com/p/128x128/2025/02/13/6...</td>\n",
       "      <td>Mango Yogurt Cake</td>\n",
       "      <td>มะม่วง, โยเกิร์ต, แป้งเค้ก, น้ำตาล, ไข่, เนย</td>\n",
       "      <td>หวาน, มัน</td>\n",
       "      <td>ของหวาน, เบเกอรี/เค้ก</td>\n",
       "    </tr>\n",
       "    <tr>\n",
       "      <th>3</th>\n",
       "      <td>Starbucks (สตาร์บัคส์)</td>\n",
       "      <td>https://img.wongnai.com/p/128x128/2025/02/13/a...</td>\n",
       "      <td>Honey Nougat Cream Frappuccino</td>\n",
       "      <td>นม, น้ำผึ้ง, นูกัต, ครีม, กาแฟ, น้ำแข็ง</td>\n",
       "      <td>หวาน, มัน</td>\n",
       "      <td>เครื่องดื่ม/น้ำผลไม้</td>\n",
       "    </tr>\n",
       "    <tr>\n",
       "      <th>4</th>\n",
       "      <td>Starbucks (สตาร์บัคส์)</td>\n",
       "      <td>https://img.wongnai.com/p/128x128/2025/02/13/0...</td>\n",
       "      <td>Honey Nougat Oatmilk Macchiato</td>\n",
       "      <td>นมข้าวโอ๊ต, น้ำผึ้ง, นูกัต, กาแฟ</td>\n",
       "      <td>หวาน, มัน</td>\n",
       "      <td>เครื่องดื่ม/น้ำผลไม้</td>\n",
       "    </tr>\n",
       "  </tbody>\n",
       "</table>\n",
       "</div>"
      ],
      "text/plain": [
       "          restaurant_name                                         menu_image  \\\n",
       "0  Starbucks (สตาร์บัคส์)  https://img.wongnai.com/p/128x128/2025/02/13/b...   \n",
       "1  Starbucks (สตาร์บัคส์)  https://img.wongnai.com/p/128x128/2025/02/13/1...   \n",
       "2  Starbucks (สตาร์บัคส์)  https://img.wongnai.com/p/128x128/2025/02/13/6...   \n",
       "3  Starbucks (สตาร์บัคส์)  https://img.wongnai.com/p/128x128/2025/02/13/a...   \n",
       "4  Starbucks (สตาร์บัคส์)  https://img.wongnai.com/p/128x128/2025/02/13/0...   \n",
       "\n",
       "                                  menu_name  \\\n",
       "0                      Blossom Coconut Roll   \n",
       "1  Lychee Rose Juice Mixed with Pomegranate   \n",
       "2                         Mango Yogurt Cake   \n",
       "3            Honey Nougat Cream Frappuccino   \n",
       "4            Honey Nougat Oatmilk Macchiato   \n",
       "\n",
       "                                      ingredients     characteristics  \\\n",
       "0          แป้งเค้ก, มะพร้าวขูด, น้ำตาล, ไข่, เนย           หวาน, มัน   \n",
       "1  ลิ้นจี่, น้ำกุหลาบ, น้ำทับทิม, น้ำตาล, น้ำแข็ง  หวาน, เปรี้ยว, มัน   \n",
       "2    มะม่วง, โยเกิร์ต, แป้งเค้ก, น้ำตาล, ไข่, เนย           หวาน, มัน   \n",
       "3         นม, น้ำผึ้ง, นูกัต, ครีม, กาแฟ, น้ำแข็ง           หวาน, มัน   \n",
       "4                นมข้าวโอ๊ต, น้ำผึ้ง, นูกัต, กาแฟ           หวาน, มัน   \n",
       "\n",
       "           menu_category  \n",
       "0  ของหวาน, เบเกอรี/เค้ก  \n",
       "1   เครื่องดื่ม/น้ำผลไม้  \n",
       "2  ของหวาน, เบเกอรี/เค้ก  \n",
       "3   เครื่องดื่ม/น้ำผลไม้  \n",
       "4   เครื่องดื่ม/น้ำผลไม้  "
      ]
     },
     "execution_count": 35,
     "metadata": {},
     "output_type": "execute_result"
    }
   ],
   "source": [
    "import pandas as pd\n",
    "\n",
    "df = pd.read_excel(\"clean_menu (1).xlsx\")\n",
    "df.head()"
   ]
  },
  {
   "cell_type": "code",
   "execution_count": 36,
   "metadata": {},
   "outputs": [
    {
     "data": {
      "text/plain": [
       "restaurant_name      0\n",
       "menu_image          90\n",
       "menu_name            0\n",
       "ingredients          0\n",
       "characteristics      0\n",
       "menu_category      805\n",
       "dtype: int64"
      ]
     },
     "execution_count": 36,
     "metadata": {},
     "output_type": "execute_result"
    }
   ],
   "source": [
    "df.isnull().sum()"
   ]
  },
  {
   "cell_type": "code",
   "execution_count": 41,
   "metadata": {},
   "outputs": [
    {
     "data": {
      "text/plain": [
       "เฟรนช์ฟรายส์         9\n",
       "กะเพราหมูสับ         7\n",
       "ข้าวผัดกุ้ง          7\n",
       "ชามะนาว              5\n",
       "ลาเต้                5\n",
       "                    ..\n",
       "ข้าวไข่เจียว กุ้ง    1\n",
       "ข้าวหน้าไข่ข้นแฮม    1\n",
       "ข้าวไข่ข้น           1\n",
       "ไข่เจียวราดข้าว      1\n",
       "fish and chips       1\n",
       "Name: menu_name, Length: 2604, dtype: int64"
      ]
     },
     "execution_count": 41,
     "metadata": {},
     "output_type": "execute_result"
    }
   ],
   "source": [
    "df[\"menu_name\"].value_counts()"
   ]
  },
  {
   "cell_type": "code",
   "execution_count": 23,
   "metadata": {},
   "outputs": [
    {
     "data": {
      "text/plain": [
       "Blossom Coconut Roll              1\n",
       "Ice Cream Passion Fruit           1\n",
       "เกี๊ยวไก่กระเทียมพริกไทย          1\n",
       "เกี๊ยวไก่เห็ดหอม                  1\n",
       "เกี๊ยวไก่ผักโขมสาหร่าย ไร้แป้ง    1\n",
       "                                 ..\n",
       "ข้าวพริกแกงกุ้ง                   1\n",
       "ข้าวพริกเผากุ้ง                   1\n",
       "ข้าวกะเพราปลาหมึก                 1\n",
       "ข้าวโหระพาปลาหมึก                 1\n",
       "fish and chips                    1\n",
       "Name: menu_name, Length: 2604, dtype: int64"
      ]
     },
     "execution_count": 23,
     "metadata": {},
     "output_type": "execute_result"
    }
   ],
   "source": [
    "# Create new dataframe with only unique menu names\n",
    "df2 = df.copy()\n",
    "\n",
    "df2 = df2.drop_duplicates(subset=\"menu_name\")\n",
    "\n",
    "df2[\"menu_name\"].value_counts()"
   ]
  },
  {
   "cell_type": "code",
   "execution_count": 24,
   "metadata": {},
   "outputs": [],
   "source": [
    "#split ingredients\n",
    "df2[\"ingredients\"] = df2[\"ingredients\"].str.split(\",\")"
   ]
  },
  {
   "cell_type": "code",
   "execution_count": 34,
   "metadata": {},
   "outputs": [],
   "source": [
    "# Create new dataframe with only unique ingredients\n",
    "df3 = df2.copy()\n",
    "\n",
    "df3 = df3.explode(\"ingredients\")\n",
    "\n",
    "df4 = pd.DataFrame(df3[\"ingredients\"].unique(), columns=[\"ingredient\"])\n",
    "df4.to_excel(\"clean_ingredients.xlsx\", index=False)\n"
   ]
  }
 ],
 "metadata": {
  "kernelspec": {
   "display_name": "Python 3",
   "language": "python",
   "name": "python3"
  },
  "language_info": {
   "codemirror_mode": {
    "name": "ipython",
    "version": 3
   },
   "file_extension": ".py",
   "mimetype": "text/x-python",
   "name": "python",
   "nbconvert_exporter": "python",
   "pygments_lexer": "ipython3",
   "version": "3.9.10"
  }
 },
 "nbformat": 4,
 "nbformat_minor": 2
}
