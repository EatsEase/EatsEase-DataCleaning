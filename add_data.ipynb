{
 "cells": [
  {
   "cell_type": "code",
   "execution_count": 32,
   "metadata": {},
   "outputs": [],
   "source": [
    "import pandas as pd\n",
    "\n",
    "df = pd.read_excel('wongnai_menu_info.xlsx')"
   ]
  },
  {
   "cell_type": "code",
   "execution_count": null,
   "metadata": {},
   "outputs": [],
   "source": []
  },
  {
   "cell_type": "code",
   "execution_count": 36,
   "metadata": {},
   "outputs": [],
   "source": [
    "menu_list = df['menu_name'].tolist()\n",
    "menu_lst = menu_list[212:225]"
   ]
  },
  {
   "cell_type": "code",
   "execution_count": 38,
   "metadata": {},
   "outputs": [],
   "source": [
    "template = f\"\"\"\n",
    "ฉันมีรายการเมนูดังต่อไปนี้:\n",
    "\n",
    "{menu_lst}\n",
    "\n",
    "กรุณาวิเคราะห์และแสดง **ส่วนผสมหลัก** และ **รสชาติ** ของแต่ละเมนูในรูปแบบของตาราง  \n",
    "- **ห้ามระบุยี่ห้อหรือสายพันธุ์ของวัตถุดิบ**  \n",
    "- ตอบเป็น **ภาษาไทย**  \n",
    "- ใช้ชื่อเมนูที่ถูกต้องโดยใช้ขอมูลจาก menu_list ที่ฉันให้ไว้เป็นการอ้างอิง\n",
    "- เมนูให้แสดงเป็น **string** ไม่ใช่ list\n",
    "- ส่วนผสมให้แสดงเป็น **string** ไม่ใช่ list  \n",
    "- รสชาติให้แสดงเป็น **string** ไม่ใช่ list  \n",
    "- จัดเรียงข้อมูลในรูปแบบที่สามารถคัดลอกไปวางใน Excel ได้ง่าย  \n",
    "\n",
    "**ตัวอย่าง Output ที่ต้องการ:**\n",
    "\n",
    "### **เมนู**\n",
    "หมูทอดกระเทียมราดข้าว\n",
    "ไก่ทอดกระเทียมราดข้าว\n",
    "เนื้อทอดกระเทียมราดข้าว\n",
    "กุ้งทอดกระเทียมราดข้าว\n",
    "ข้าวสวย\n",
    "\n",
    "\n",
    "### **คอลัมน์ส่วนผสม**\n",
    "หมู, กระเทียม, พริกไทย, น้ำปลา, ข้าว\n",
    "ไก่, กระเทียม, พริกไทย, น้ำปลา, ข้าว\n",
    "เนื้อ, กระเทียม, พริกไทย, น้ำปลา, ข้าว\n",
    "กุ้ง, กระเทียม, พริกไทย, น้ำปลา, ข้าว\n",
    "ข้าว\n",
    "ไข่ไก่, น้ำมัน\n",
    "ไข่เป็ด\n",
    "\n",
    "\n",
    "### **คอลัมน์รสชาติ**\n",
    "เค็ม, หอม, มัน\n",
    "เค็ม, หอม, มัน\n",
    "เค็ม, หอม, มัน\n",
    "เค็ม, หอม, มัน\n",
    "จืด\n",
    "เค็ม, มัน\n",
    "เค็ม, มัน\n",
    "\n",
    "\n",
    "กรุณาสร้าง Output ที่ตรงตามตัวอย่างนี้ โดยใช้ข้อมูลจาก menu_list ที่ฉันให้ไว้\n",
    "\"\"\""
   ]
  },
  {
   "cell_type": "code",
   "execution_count": 39,
   "metadata": {},
   "outputs": [
    {
     "name": "stdout",
     "output_type": "stream",
     "text": [
      "\n",
      "ฉันมีรายการเมนูดังต่อไปนี้:\n",
      "\n",
      "['ฮัท 1 ฟรี 1 พิซซ่าเลิฟเวอร์ ขอบสเปเชียล ถาดกลาง (PROMOTION|FA1KLV|I310|NA)', 'ฮัท 1 ฟรี 1 พิซซ่าสุพรีม ถาดกลาง (PROMOTION|FA1PTSP|I314|NA)', 'ฮัท 1 ฟรี 1 พิซซ่าเลิฟเวอร์ ขอบชีส ถาดกลาง (PROMOTION|FA1CLV|I309|NA)', 'ฮัท 1 ฟรี 1 พิซซ่าสุพรีม ขอบสเปเชียล ถาดกลาง (PROMOTION|FA1KSP|I316|NA)', 'ฮัท 1 ฟรี 1 พิซซ่าซีฟู้ด ถาดกลาง (PROMOTION|FA1PTSF|I317|NA)', 'ฮัท 1 ฟรี 1 พิซซ่าดีลักซ์ ขอบสเปเชียล ถาดกลาง (PROMOTION|FA1KDL|I313|NA)', 'ฮัท 1 ฟรี 1 พิซซ่าซีฟู้ด ขอบชีส ถาดกลาง (PROMOTION|FA1CSF|I318|NA)', 'ฮัท 1 ฟรี 1 พิซซ่าดีลักซ์ ถาดกลาง (PROMOTION|FA1PTDL|I311|NA)', 'ฮัท 1 ฟรี 1 พิซซ่าซีฟู้ด ขอบสเปเชียล ถาดกลาง (PROMOTION|FA1KSF|I319|NA)', 'ฮัท 1 ฟรี 1 พิซซ่าสุพรีม ขอบชีส ถาดกลาง (PROMOTION|FA1CSP|I315|NA)', 'ฮัท 1 ฟรี 1 พิซซ่าดีลักซ์ ขอบชีส ถาดกลาง (PROMOTION|FA1CDL|I312|NA)', 'ฮัท 1 ฟรี 1 เครื่องดื่ม 16 oz. (PROMOTION|FA1F1B|I347|NA)', 'ฮัท 1 ฟรี 1 พิซซ่าสไตล์นาโปลี หมวดซีฟู้ด (PROMOTION|FA1NPSF|I370|NA)']\n",
      "\n",
      "กรุณาวิเคราะห์และแสดง **ส่วนผสมหลัก** และ **รสชาติ** ของแต่ละเมนูในรูปแบบของตาราง  \n",
      "- **ห้ามระบุยี่ห้อหรือสายพันธุ์ของวัตถุดิบ**  \n",
      "- ตอบเป็น **ภาษาไทย**  \n",
      "- ใช้ชื่อเมนูที่ถูกต้องโดยใช้ขอมูลจาก menu_list ที่ฉันให้ไว้เป็นการอ้างอิง\n",
      "- เมนูให้แสดงเป็น **string** ไม่ใช่ list\n",
      "- ส่วนผสมให้แสดงเป็น **string** ไม่ใช่ list  \n",
      "- รสชาติให้แสดงเป็น **string** ไม่ใช่ list  \n",
      "- จัดเรียงข้อมูลในรูปแบบที่สามารถคัดลอกไปวางใน Excel ได้ง่าย  \n",
      "\n",
      "**ตัวอย่าง Output ที่ต้องการ:**\n",
      "\n",
      "### **เมนู**\n",
      "หมูทอดกระเทียมราดข้าว\n",
      "ไก่ทอดกระเทียมราดข้าว\n",
      "เนื้อทอดกระเทียมราดข้าว\n",
      "กุ้งทอดกระเทียมราดข้าว\n",
      "ข้าวสวย\n",
      "\n",
      "\n",
      "### **คอลัมน์ส่วนผสม**\n",
      "หมู, กระเทียม, พริกไทย, น้ำปลา, ข้าว\n",
      "ไก่, กระเทียม, พริกไทย, น้ำปลา, ข้าว\n",
      "เนื้อ, กระเทียม, พริกไทย, น้ำปลา, ข้าว\n",
      "กุ้ง, กระเทียม, พริกไทย, น้ำปลา, ข้าว\n",
      "ข้าว\n",
      "ไข่ไก่, น้ำมัน\n",
      "ไข่เป็ด\n",
      "\n",
      "\n",
      "### **คอลัมน์รสชาติ**\n",
      "เค็ม, หอม, มัน\n",
      "เค็ม, หอม, มัน\n",
      "เค็ม, หอม, มัน\n",
      "เค็ม, หอม, มัน\n",
      "จืด\n",
      "เค็ม, มัน\n",
      "เค็ม, มัน\n",
      "\n",
      "\n",
      "กรุณาสร้าง Output ที่ตรงตามตัวอย่างนี้ โดยใช้ข้อมูลจาก menu_list ที่ฉันให้ไว้\n",
      "\n"
     ]
    }
   ],
   "source": [
    "print(template)"
   ]
  },
  {
   "cell_type": "code",
   "execution_count": 40,
   "metadata": {},
   "outputs": [
    {
     "data": {
      "text/html": [
       "<div>\n",
       "<style scoped>\n",
       "    .dataframe tbody tr th:only-of-type {\n",
       "        vertical-align: middle;\n",
       "    }\n",
       "\n",
       "    .dataframe tbody tr th {\n",
       "        vertical-align: top;\n",
       "    }\n",
       "\n",
       "    .dataframe thead th {\n",
       "        text-align: right;\n",
       "    }\n",
       "</style>\n",
       "<table border=\"1\" class=\"dataframe\">\n",
       "  <thead>\n",
       "    <tr style=\"text-align: right;\">\n",
       "      <th></th>\n",
       "      <th>restaurant_name</th>\n",
       "      <th>menu_image</th>\n",
       "      <th>menu_name</th>\n",
       "      <th>ingredients</th>\n",
       "    </tr>\n",
       "  </thead>\n",
       "  <tbody>\n",
       "    <tr>\n",
       "      <th>0</th>\n",
       "      <td>Starbucks (สตาร์บัคส์)</td>\n",
       "      <td>https://img.wongnai.com/p/128x128/2025/02/13/b...</td>\n",
       "      <td>Blossom Coconut Roll (8512013066)</td>\n",
       "      <td>แป้งเค้ก, มะพร้าวขูด, น้ำตาล, ไข่, เนย</td>\n",
       "    </tr>\n",
       "    <tr>\n",
       "      <th>1</th>\n",
       "      <td>Starbucks (สตาร์บัคส์)</td>\n",
       "      <td>https://img.wongnai.com/p/128x128/2025/02/13/1...</td>\n",
       "      <td>Lychee Rose Juice Mixed with Pomegranate (8512...</td>\n",
       "      <td>ลิ้นจี่, น้ำกุหลาบ, น้ำทับทิม, น้ำตาล, น้ำแข็ง</td>\n",
       "    </tr>\n",
       "    <tr>\n",
       "      <th>2</th>\n",
       "      <td>Starbucks (สตาร์บัคส์)</td>\n",
       "      <td>https://img.wongnai.com/p/128x128/2025/02/13/6...</td>\n",
       "      <td>Mango Yogurt Cake (8512003482)</td>\n",
       "      <td>มะม่วง, โยเกิร์ต, แป้งเค้ก, น้ำตาล, ไข่, เนย</td>\n",
       "    </tr>\n",
       "    <tr>\n",
       "      <th>3</th>\n",
       "      <td>Starbucks (สตาร์บัคส์)</td>\n",
       "      <td>https://img.wongnai.com/p/128x128/2025/02/13/a...</td>\n",
       "      <td>Honey Nougat Cream Frappuccino (3PL0013920)</td>\n",
       "      <td>นม, น้ำผึ้ง, นูกัต, ครีม, กาแฟ, น้ำแข็ง</td>\n",
       "    </tr>\n",
       "    <tr>\n",
       "      <th>4</th>\n",
       "      <td>Starbucks (สตาร์บัคส์)</td>\n",
       "      <td>https://img.wongnai.com/p/128x128/2025/02/13/0...</td>\n",
       "      <td>Honey Nougat Oatmilk Macchiato (3PL0013861)</td>\n",
       "      <td>นมข้าวโอ๊ต, น้ำผึ้ง, นูกัต, กาแฟ</td>\n",
       "    </tr>\n",
       "  </tbody>\n",
       "</table>\n",
       "</div>"
      ],
      "text/plain": [
       "          restaurant_name                                         menu_image  \\\n",
       "0  Starbucks (สตาร์บัคส์)  https://img.wongnai.com/p/128x128/2025/02/13/b...   \n",
       "1  Starbucks (สตาร์บัคส์)  https://img.wongnai.com/p/128x128/2025/02/13/1...   \n",
       "2  Starbucks (สตาร์บัคส์)  https://img.wongnai.com/p/128x128/2025/02/13/6...   \n",
       "3  Starbucks (สตาร์บัคส์)  https://img.wongnai.com/p/128x128/2025/02/13/a...   \n",
       "4  Starbucks (สตาร์บัคส์)  https://img.wongnai.com/p/128x128/2025/02/13/0...   \n",
       "\n",
       "                                           menu_name  \\\n",
       "0                  Blossom Coconut Roll (8512013066)   \n",
       "1  Lychee Rose Juice Mixed with Pomegranate (8512...   \n",
       "2                     Mango Yogurt Cake (8512003482)   \n",
       "3        Honey Nougat Cream Frappuccino (3PL0013920)   \n",
       "4        Honey Nougat Oatmilk Macchiato (3PL0013861)   \n",
       "\n",
       "                                      ingredients  \n",
       "0          แป้งเค้ก, มะพร้าวขูด, น้ำตาล, ไข่, เนย  \n",
       "1  ลิ้นจี่, น้ำกุหลาบ, น้ำทับทิม, น้ำตาล, น้ำแข็ง  \n",
       "2    มะม่วง, โยเกิร์ต, แป้งเค้ก, น้ำตาล, ไข่, เนย  \n",
       "3         นม, น้ำผึ้ง, นูกัต, ครีม, กาแฟ, น้ำแข็ง  \n",
       "4                นมข้าวโอ๊ต, น้ำผึ้ง, นูกัต, กาแฟ  "
      ]
     },
     "execution_count": 40,
     "metadata": {},
     "output_type": "execute_result"
    }
   ],
   "source": [
    "df2 = pd.read_excel('wongnai_dataset_based_version.xlsx', sheet_name='menu_info')\n",
    "df2.head()"
   ]
  },
  {
   "cell_type": "code",
   "execution_count": 41,
   "metadata": {},
   "outputs": [],
   "source": [
    "#Create columns 400x400_menu_image\n",
    "df2['400x400_menu_image'] = df2['menu_image'].str.replace('128x128', '400x400')"
   ]
  },
  {
   "cell_type": "code",
   "execution_count": 43,
   "metadata": {},
   "outputs": [],
   "source": [
    "df2.to_excel('wongnai_dataset_based_version.xlsx', index=False)"
   ]
  },
  {
   "cell_type": "code",
   "execution_count": 47,
   "metadata": {},
   "outputs": [],
   "source": [
    "#Find missing value on 400x400_menu_image columns\n",
    "missing_value = df2['400x400_menu_image'].isnull().sum()\n",
    "\n",
    "#replace missing value with 'https://static2.wongnai.com/static2/images/1MeNbWa.png\n",
    "df2['400x400_menu_image'].fillna('https://static2.wongnai.com/static2/images/1MeNbWa.png', inplace=True)"
   ]
  },
  {
   "cell_type": "code",
   "execution_count": 50,
   "metadata": {},
   "outputs": [
    {
     "data": {
      "text/plain": [
       "restaurant_name          0\n",
       "menu_image             119\n",
       "menu_name                0\n",
       "ingredients           3888\n",
       "400x400_menu_image       0\n",
       "dtype: int64"
      ]
     },
     "execution_count": 50,
     "metadata": {},
     "output_type": "execute_result"
    }
   ],
   "source": [
    "df2.isnull().sum()"
   ]
  }
 ],
 "metadata": {
  "kernelspec": {
   "display_name": "Python 3",
   "language": "python",
   "name": "python3"
  },
  "language_info": {
   "codemirror_mode": {
    "name": "ipython",
    "version": 3
   },
   "file_extension": ".py",
   "mimetype": "text/x-python",
   "name": "python",
   "nbconvert_exporter": "python",
   "pygments_lexer": "ipython3",
   "version": "3.9.10"
  }
 },
 "nbformat": 4,
 "nbformat_minor": 2
}
