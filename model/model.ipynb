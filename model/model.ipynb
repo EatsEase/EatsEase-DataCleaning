{
 "cells": [
  {
   "cell_type": "code",
   "execution_count": 1,
   "metadata": {},
   "outputs": [
    {
     "data": {
      "text/html": [
       "<div>\n",
       "<style scoped>\n",
       "    .dataframe tbody tr th:only-of-type {\n",
       "        vertical-align: middle;\n",
       "    }\n",
       "\n",
       "    .dataframe tbody tr th {\n",
       "        vertical-align: top;\n",
       "    }\n",
       "\n",
       "    .dataframe thead th {\n",
       "        text-align: right;\n",
       "    }\n",
       "</style>\n",
       "<table border=\"1\" class=\"dataframe\">\n",
       "  <thead>\n",
       "    <tr style=\"text-align: right;\">\n",
       "      <th></th>\n",
       "      <th>menu_name</th>\n",
       "      <th>ingredients</th>\n",
       "      <th>characteristics</th>\n",
       "    </tr>\n",
       "  </thead>\n",
       "  <tbody>\n",
       "    <tr>\n",
       "      <th>0</th>\n",
       "      <td>Blossom Coconut Roll (8512013066)</td>\n",
       "      <td>แป้งเค้ก, มะพร้าวขูด, น้ำตาล, ไข่, เนย</td>\n",
       "      <td>หวาน, มัน</td>\n",
       "    </tr>\n",
       "    <tr>\n",
       "      <th>1</th>\n",
       "      <td>Lychee Rose Juice Mixed with Pomegranate (8512...</td>\n",
       "      <td>ลิ้นจี่, น้ำกุหลาบ, น้ำทับทิม, น้ำตาล, น้ำแข็ง</td>\n",
       "      <td>หวาน, เปรี้ยว, มัน</td>\n",
       "    </tr>\n",
       "    <tr>\n",
       "      <th>2</th>\n",
       "      <td>Mango Yogurt Cake (8512003482)</td>\n",
       "      <td>มะม่วง, โยเกิร์ต, แป้งเค้ก, น้ำตาล, ไข่, เนย</td>\n",
       "      <td>หวาน, มัน</td>\n",
       "    </tr>\n",
       "    <tr>\n",
       "      <th>3</th>\n",
       "      <td>Honey Nougat Cream Frappuccino (3PL0013920)</td>\n",
       "      <td>นม, น้ำผึ้ง, นูกัต, ครีม, กาแฟ, น้ำแข็ง</td>\n",
       "      <td>หวาน, มัน</td>\n",
       "    </tr>\n",
       "    <tr>\n",
       "      <th>4</th>\n",
       "      <td>Honey Nougat Oatmilk Macchiato (3PL0013861)</td>\n",
       "      <td>นมข้าวโอ๊ต, น้ำผึ้ง, นูกัต, กาแฟ</td>\n",
       "      <td>หวาน, มัน</td>\n",
       "    </tr>\n",
       "  </tbody>\n",
       "</table>\n",
       "</div>"
      ],
      "text/plain": [
       "                                           menu_name  \\\n",
       "0                  Blossom Coconut Roll (8512013066)   \n",
       "1  Lychee Rose Juice Mixed with Pomegranate (8512...   \n",
       "2                     Mango Yogurt Cake (8512003482)   \n",
       "3        Honey Nougat Cream Frappuccino (3PL0013920)   \n",
       "4        Honey Nougat Oatmilk Macchiato (3PL0013861)   \n",
       "\n",
       "                                      ingredients     characteristics  \n",
       "0          แป้งเค้ก, มะพร้าวขูด, น้ำตาล, ไข่, เนย           หวาน, มัน  \n",
       "1  ลิ้นจี่, น้ำกุหลาบ, น้ำทับทิม, น้ำตาล, น้ำแข็ง  หวาน, เปรี้ยว, มัน  \n",
       "2    มะม่วง, โยเกิร์ต, แป้งเค้ก, น้ำตาล, ไข่, เนย           หวาน, มัน  \n",
       "3         นม, น้ำผึ้ง, นูกัต, ครีม, กาแฟ, น้ำแข็ง           หวาน, มัน  \n",
       "4                นมข้าวโอ๊ต, น้ำผึ้ง, นูกัต, กาแฟ           หวาน, มัน  "
      ]
     },
     "execution_count": 1,
     "metadata": {},
     "output_type": "execute_result"
    }
   ],
   "source": [
    "import pandas as pd\n",
    "\n",
    "df = pd.read_excel('wongnai_menu_info.xlsx', sheet_name='Sheet2')\n",
    "df.head()"
   ]
  },
  {
   "cell_type": "code",
   "execution_count": 2,
   "metadata": {},
   "outputs": [
    {
     "name": "stderr",
     "output_type": "stream",
     "text": [
      "C:\\Users\\User\\AppData\\Roaming\\Python\\Python39\\site-packages\\sklearn\\feature_extraction\\text.py:525: UserWarning: The parameter 'token_pattern' will not be used since 'tokenizer' is not None'\n",
      "  warnings.warn(\n"
     ]
    }
   ],
   "source": [
    "from sklearn.feature_extraction.text import TfidfVectorizer\n",
    "\n",
    "df_sheet2 = df.copy()\n",
    "\n",
    "# Combine ingredients and characteristics into a single text field for embeddings\n",
    "df_sheet2[\"combined_features\"] = df_sheet2[\"ingredients\"] + \", \" + df_sheet2[\"characteristics\"]\n",
    "\n",
    "# Initialize TF-IDF Vectorizer\n",
    "vectorizer = TfidfVectorizer(tokenizer=lambda x: x.split(\", \"))\n",
    "\n",
    "# Fit and transform the text data into embeddings\n",
    "tfidf_matrix = vectorizer.fit_transform(df_sheet2[\"combined_features\"])\n",
    "\n",
    "# Convert the matrix to a DataFrame for better readability\n",
    "feature_names = vectorizer.get_feature_names_out()\n",
    "df_tfidf = pd.DataFrame(tfidf_matrix.toarray(), columns=feature_names)"
   ]
  },
  {
   "cell_type": "code",
   "execution_count": 3,
   "metadata": {},
   "outputs": [],
   "source": [
    "from sklearn.metrics.pairwise import cosine_similarity\n",
    "\n",
    "# Compute the cosine similarity matrix\n",
    "cosine_sim_matrix = cosine_similarity(tfidf_matrix, tfidf_matrix)\n",
    "\n",
    "# Convert to DataFrame for better readability\n",
    "df_cosine_sim = pd.DataFrame(cosine_sim_matrix, index=df_sheet2[\"menu_name\"], columns=df_sheet2[\"menu_name\"])\n"
   ]
  },
  {
   "cell_type": "code",
   "execution_count": 4,
   "metadata": {},
   "outputs": [],
   "source": [
    "# Function to recommend similar menus based on liked menu\n",
    "def get_recommendations(liked_menu, df_cosine_sim, top_n=5):\n",
    "    if liked_menu not in df_cosine_sim.index:\n",
    "        return f\"Menu '{liked_menu}' not found in dataset.\"\n",
    "    \n",
    "    # Get similarity scores for the liked menu\n",
    "    sim_scores = df_cosine_sim[liked_menu].sort_values(ascending=False)\n",
    "    \n",
    "    # Exclude the liked menu itself and get top N recommendations\n",
    "    recommended_menus = sim_scores.iloc[1:top_n+1].index.tolist()\n",
    "    \n",
    "    return recommended_menus\n",
    "\n",
    "# Display function to allow user input\n",
    "def recommend_based_on_input(liked_menu):\n",
    "    recommendations = get_recommendations(liked_menu, df_cosine_sim)\n",
    "    return recommendations\n",
    "\n",
    "# Display menu names for user reference\n",
    "menu_list = df_sheet2[\"menu_name\"].tolist()\n"
   ]
  },
  {
   "cell_type": "code",
   "execution_count": 11,
   "metadata": {},
   "outputs": [
    {
     "data": {
      "text/html": [
       "<div>\n",
       "<style scoped>\n",
       "    .dataframe tbody tr th:only-of-type {\n",
       "        vertical-align: middle;\n",
       "    }\n",
       "\n",
       "    .dataframe tbody tr th {\n",
       "        vertical-align: top;\n",
       "    }\n",
       "\n",
       "    .dataframe thead th {\n",
       "        text-align: right;\n",
       "    }\n",
       "</style>\n",
       "<table border=\"1\" class=\"dataframe\">\n",
       "  <thead>\n",
       "    <tr style=\"text-align: right;\">\n",
       "      <th></th>\n",
       "      <th>menu_name</th>\n",
       "      <th>ingredients</th>\n",
       "      <th>characteristics</th>\n",
       "    </tr>\n",
       "  </thead>\n",
       "  <tbody>\n",
       "    <tr>\n",
       "      <th>0</th>\n",
       "      <td>Blossom Coconut Roll (8512013066)</td>\n",
       "      <td>แป้งเค้ก, มะพร้าวขูด, น้ำตาล, ไข่, เนย</td>\n",
       "      <td>หวาน, มัน</td>\n",
       "    </tr>\n",
       "  </tbody>\n",
       "</table>\n",
       "</div>"
      ],
      "text/plain": [
       "                           menu_name                             ingredients  \\\n",
       "0  Blossom Coconut Roll (8512013066)  แป้งเค้ก, มะพร้าวขูด, น้ำตาล, ไข่, เนย   \n",
       "\n",
       "  characteristics  \n",
       "0       หวาน, มัน  "
      ]
     },
     "execution_count": 11,
     "metadata": {},
     "output_type": "execute_result"
    }
   ],
   "source": [
    "recommend_based_on_input(\"Blossom Coconut Roll (8512013066)\")\n",
    "\n",
    "#Show the ingredients and characteristics of selected menu\n",
    "df_sheet2[df_sheet2[\"menu_name\"] == \"Blossom Coconut Roll (8512013066)\"][[\"menu_name\", \"ingredients\", \"characteristics\"]]"
   ]
  },
  {
   "cell_type": "code",
   "execution_count": 10,
   "metadata": {},
   "outputs": [
    {
     "data": {
      "text/html": [
       "<div>\n",
       "<style scoped>\n",
       "    .dataframe tbody tr th:only-of-type {\n",
       "        vertical-align: middle;\n",
       "    }\n",
       "\n",
       "    .dataframe tbody tr th {\n",
       "        vertical-align: top;\n",
       "    }\n",
       "\n",
       "    .dataframe thead th {\n",
       "        text-align: right;\n",
       "    }\n",
       "</style>\n",
       "<table border=\"1\" class=\"dataframe\">\n",
       "  <thead>\n",
       "    <tr style=\"text-align: right;\">\n",
       "      <th></th>\n",
       "      <th>menu_name</th>\n",
       "      <th>ingredients</th>\n",
       "      <th>characteristics</th>\n",
       "    </tr>\n",
       "  </thead>\n",
       "  <tbody>\n",
       "    <tr>\n",
       "      <th>2</th>\n",
       "      <td>Mango Yogurt Cake (8512003482)</td>\n",
       "      <td>มะม่วง, โยเกิร์ต, แป้งเค้ก, น้ำตาล, ไข่, เนย</td>\n",
       "      <td>หวาน, มัน</td>\n",
       "    </tr>\n",
       "    <tr>\n",
       "      <th>102</th>\n",
       "      <td>Glazed Donut (8512004610)</td>\n",
       "      <td>แป้ง, น้ำตาล, ไข่, นม</td>\n",
       "      <td>หวาน, มัน</td>\n",
       "    </tr>\n",
       "    <tr>\n",
       "      <th>104</th>\n",
       "      <td>Chocolate Glazed Donut (8512005743)</td>\n",
       "      <td>แป้ง, ช็อกโกแลต, น้ำตาล, ไข่, นม</td>\n",
       "      <td>หวาน, ขม, มัน</td>\n",
       "    </tr>\n",
       "    <tr>\n",
       "      <th>122</th>\n",
       "      <td>Croque Monsieur (8512013938)</td>\n",
       "      <td>ขนมปัง, แฮม, ชีส, ครีม, เนย</td>\n",
       "      <td>เค็ม, มัน, หอม</td>\n",
       "    </tr>\n",
       "    <tr>\n",
       "      <th>184</th>\n",
       "      <td>ข้าวผัดกุ้ง</td>\n",
       "      <td>ข้าว, กุ้ง, ไข่, น้ำปลา</td>\n",
       "      <td>เค็ม, มัน</td>\n",
       "    </tr>\n",
       "  </tbody>\n",
       "</table>\n",
       "</div>"
      ],
      "text/plain": [
       "                               menu_name  \\\n",
       "2         Mango Yogurt Cake (8512003482)   \n",
       "102            Glazed Donut (8512004610)   \n",
       "104  Chocolate Glazed Donut (8512005743)   \n",
       "122         Croque Monsieur (8512013938)   \n",
       "184                          ข้าวผัดกุ้ง   \n",
       "\n",
       "                                      ingredients characteristics  \n",
       "2    มะม่วง, โยเกิร์ต, แป้งเค้ก, น้ำตาล, ไข่, เนย       หวาน, มัน  \n",
       "102                         แป้ง, น้ำตาล, ไข่, นม       หวาน, มัน  \n",
       "104              แป้ง, ช็อกโกแลต, น้ำตาล, ไข่, นม   หวาน, ขม, มัน  \n",
       "122                   ขนมปัง, แฮม, ชีส, ครีม, เนย  เค็ม, มัน, หอม  \n",
       "184                       ข้าว, กุ้ง, ไข่, น้ำปลา       เค็ม, มัน  "
      ]
     },
     "execution_count": 10,
     "metadata": {},
     "output_type": "execute_result"
    }
   ],
   "source": [
    "#Show the ingredients and characteristics of the recommended menu\n",
    "df_sheet2[df_sheet2[\"menu_name\"].isin(recommend_based_on_input(\"Blossom Coconut Roll (8512013066)\"))][[\"menu_name\", \"ingredients\", \"characteristics\"]]"
   ]
  }
 ],
 "metadata": {
  "kernelspec": {
   "display_name": "Python 3",
   "language": "python",
   "name": "python3"
  },
  "language_info": {
   "codemirror_mode": {
    "name": "ipython",
    "version": 3
   },
   "file_extension": ".py",
   "mimetype": "text/x-python",
   "name": "python",
   "nbconvert_exporter": "python",
   "pygments_lexer": "ipython3",
   "version": "3.9.10"
  }
 },
 "nbformat": 4,
 "nbformat_minor": 2
}
